{
 "cells": [
  {
   "cell_type": "code",
   "execution_count": null,
   "metadata": {},
   "outputs": [],
   "source": [
    "\n",
    "from pyspark.sql.types import *\n",
    "    \n",
    " # Create the schema for the table\n",
    "manufactureSchema = StructType([\n",
    "     StructField(\"CustomerName\", StringType()),\n",
    "     StructField(\"Item\", StringType()),\n",
    "     StructField(\"UnitPrice\", FloatType()),\n",
    "     StructField(\"Tax\", FloatType())\n",
    "     ])\n",
    "    \n",
    " # Import all files from bronze folder of lakehouse\n",
    "df = spark.read.format(\"csv\").option(\"header\", \"true\").schema(manufactureSchema).load(\"Files/bronze/*.csv\")\n",
    "    \n",
    " # Display the first 10 rows of the dataframe to preview your data\n",
    "display(df.head(10))"
   ]
  },
  {
   "cell_type": "code",
   "execution_count": null,
   "metadata": {},
   "outputs": [],
   "source": []
  }
 ],
 "metadata": {
  "language_info": {
   "name": "python"
  }
 },
 "nbformat": 4,
 "nbformat_minor": 2
}
